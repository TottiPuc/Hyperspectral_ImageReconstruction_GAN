{
 "cells": [
  {
   "cell_type": "code",
   "execution_count": 1,
   "metadata": {
    "colab": {
     "base_uri": "https://localhost:8080/",
     "height": 306
    },
    "colab_type": "code",
    "executionInfo": {
     "elapsed": 3872,
     "status": "ok",
     "timestamp": 1589925135807,
     "user": {
      "displayName": "Christian Arcos",
      "photoUrl": "https://lh3.googleusercontent.com/a-/AOh14GgK0YCGQ3CbmQT1xhBm81fIKke4sHZ7YYud-Gxw-g=s64",
      "userId": "15715912930236321205"
     },
     "user_tz": 300
    },
    "id": "RXRkZq0J2jrh",
    "outputId": "7713cddd-a196-4deb-910e-2b210c7b562d"
   },
   "outputs": [
    {
     "name": "stdout",
     "output_type": "stream",
     "text": [
      "Tue May 19 15:05:19 2020       \r\n",
      "+-----------------------------------------------------------------------------+\r\n",
      "| NVIDIA-SMI 440.64.00    Driver Version: 440.64.00    CUDA Version: 10.2     |\r\n",
      "|-------------------------------+----------------------+----------------------+\r\n",
      "| GPU  Name        Persistence-M| Bus-Id        Disp.A | Volatile Uncorr. ECC |\r\n",
      "| Fan  Temp  Perf  Pwr:Usage/Cap|         Memory-Usage | GPU-Util  Compute M. |\r\n",
      "|===============================+======================+======================|\r\n",
      "|   0  TITAN X (Pascal)    On   | 00000000:05:00.0 Off |                  N/A |\r\n",
      "| 23%   40C    P8     9W / 250W |    262MiB / 12194MiB |      0%      Default |\r\n",
      "+-------------------------------+----------------------+----------------------+\r\n",
      "|   1  GeForce GTX 108...  On   | 00000000:09:00.0 Off |                  N/A |\r\n",
      "| 23%   36C    P8     9W / 250W |    149MiB / 11178MiB |      0%      Default |\r\n",
      "+-------------------------------+----------------------+----------------------+\r\n",
      "|   2  TITAN RTX           On   | 00000000:0B:00.0 Off |                  N/A |\r\n",
      "| 41%   38C    P8    13W / 280W |    175MiB / 24220MiB |      0%      Default |\r\n",
      "+-------------------------------+----------------------+----------------------+\r\n",
      "                                                                               \r\n",
      "+-----------------------------------------------------------------------------+\r\n",
      "| Processes:                                                       GPU Memory |\r\n",
      "|  GPU       PID   Type   Process name                             Usage      |\r\n",
      "|=============================================================================|\r\n",
      "|    0      1510      G   /usr/lib/xorg/Xorg                            39MiB |\r\n",
      "|    0      1547      G   /usr/bin/gnome-shell                          72MiB |\r\n",
      "|    0     19133      C   /home/vlima/anaconda3/bin/python             137MiB |\r\n",
      "|    1     19133      C   /home/vlima/anaconda3/bin/python             137MiB |\r\n",
      "|    2     19133      C   /home/vlima/anaconda3/bin/python             163MiB |\r\n",
      "+-----------------------------------------------------------------------------+\r\n"
     ]
    }
   ],
   "source": [
    "!nvidia-smi"
   ]
  },
  {
   "cell_type": "code",
   "execution_count": 0,
   "metadata": {
    "colab": {},
    "colab_type": "code",
    "id": "sfRCl-dR5BKT"
   },
   "outputs": [],
   "source": [
    "!pip uninstall scipy"
   ]
  },
  {
   "cell_type": "code",
   "execution_count": 2,
   "metadata": {
    "colab": {
     "base_uri": "https://localhost:8080/",
     "height": 51
    },
    "colab_type": "code",
    "executionInfo": {
     "elapsed": 3483,
     "status": "ok",
     "timestamp": 1589924094861,
     "user": {
      "displayName": "Christian Arcos",
      "photoUrl": "https://lh3.googleusercontent.com/a-/AOh14GgK0YCGQ3CbmQT1xhBm81fIKke4sHZ7YYud-Gxw-g=s64",
      "userId": "15715912930236321205"
     },
     "user_tz": 300
    },
    "id": "kwizFdLg5Srk",
    "outputId": "431214ee-bab8-4d58-a1b0-e09ddb4a09c1"
   },
   "outputs": [
    {
     "name": "stdout",
     "output_type": "stream",
     "text": [
      "\u001b[33mWARNING: Keyring is skipped due to an exception: Failed to create the collection: Prompt dismissed..\u001b[0m\n",
      "\u001b[33mWARNING: Keyring is skipped due to an exception: Failed to create the collection: Prompt dismissed..\u001b[0m\n",
      "Collecting scipy==1.1.0\n",
      "\u001b[33m  WARNING: Keyring is skipped due to an exception: Failed to create the collection: Prompt dismissed..\u001b[0m\n",
      "\u001b[?25l  Downloading https://files.pythonhosted.org/packages/40/de/0c22c6754370ba6b1fa8e53bd6e514d4a41a181125d405a501c215cbdbd6/scipy-1.1.0-cp37-cp37m-manylinux1_x86_64.whl (31.2MB)\n",
      "\u001b[K     |████████████████████████████████| 31.2MB 282kB/s eta 0:00:01\n",
      "\u001b[?25hRequirement already satisfied: numpy>=1.8.2 in /home/cdayan/anaconda3/lib/python3.7/site-packages (from scipy==1.1.0) (1.17.4)\n",
      "\u001b[31mERROR: tensorflow 2.1.0 has requirement scipy==1.4.1; python_version >= \"3\", but you'll have scipy 1.1.0 which is incompatible.\u001b[0m\n",
      "Installing collected packages: scipy\n",
      "  Found existing installation: scipy 1.4.1\n",
      "    Uninstalling scipy-1.4.1:\n",
      "      Successfully uninstalled scipy-1.4.1\n",
      "Successfully installed scipy-1.1.0\n"
     ]
    }
   ],
   "source": [
    "!pip install scipy==1.1.0"
   ]
  },
  {
   "cell_type": "code",
   "execution_count": 2,
   "metadata": {
    "colab": {
     "base_uri": "https://localhost:8080/",
     "height": 51
    },
    "colab_type": "code",
    "executionInfo": {
     "elapsed": 2599,
     "status": "ok",
     "timestamp": 1589925204951,
     "user": {
      "displayName": "Christian Arcos",
      "photoUrl": "https://lh3.googleusercontent.com/a-/AOh14GgK0YCGQ3CbmQT1xhBm81fIKke4sHZ7YYud-Gxw-g=s64",
      "userId": "15715912930236321205"
     },
     "user_tz": 300
    },
    "id": "3uF2Q60j3M0k",
    "outputId": "8ad2d239-add4-481d-a82f-d7dc56589fa4"
   },
   "outputs": [],
   "source": [
    "import os\n",
    "import tensorflow as tf\n",
    "from tensorflow.keras.datasets import cifar10\n",
    "import matplotlib.pyplot as plt\n",
    "import zipfile\n",
    "from tensorflow.keras.preprocessing.image import ImageDataGenerator\n",
    "#modulos para red\n",
    "from tensorflow.keras.layers import Dense, Input, Activation, BatchNormalization, UpSampling2D, Flatten, Conv2D, Conv2DTranspose, LeakyReLU,PReLU, add, ReLU\n",
    "from tensorflow.keras.models import Model\n",
    "\n",
    "#manipulación de datos\n",
    "import numpy as np\n",
    "import pandas as pd\n",
    "\n",
    "#manipulación de imagenes\n",
    "from skimage import io, segmentation as seg\n",
    "from skimage.transform import resize\n",
    "from PIL import Image\n",
    "from scipy.misc import imresize\n",
    "\n",
    "#visualización de imagenes\n",
    "import matplotlib.pyplot as plt\n",
    "import seaborn as sns\n",
    "import matplotlib"
   ]
  },
  {
   "cell_type": "code",
   "execution_count": 4,
   "metadata": {
    "colab": {
     "base_uri": "https://localhost:8080/",
     "height": 204
    },
    "colab_type": "code",
    "executionInfo": {
     "elapsed": 2710,
     "status": "ok",
     "timestamp": 1589925208512,
     "user": {
      "displayName": "Christian Arcos",
      "photoUrl": "https://lh3.googleusercontent.com/a-/AOh14GgK0YCGQ3CbmQT1xhBm81fIKke4sHZ7YYud-Gxw-g=s64",
      "userId": "15715912930236321205"
     },
     "user_tz": 300
    },
    "id": "Ndsh7NMW8pKo",
    "outputId": "af4c08e6-8a63-4738-d53a-316ce711620e"
   },
   "outputs": [
    {
     "name": "stdout",
     "output_type": "stream",
     "text": [
      "--2020-05-19 15:01:09--  https://storage.googleapis.com/mledu-datasets/cats_and_dogs_filtered.zip\n",
      "Resolving storage.googleapis.com (storage.googleapis.com)... 74.125.195.128, 2607:f8b0:400e:c09::80\n",
      "Connecting to storage.googleapis.com (storage.googleapis.com)|74.125.195.128|:443... connected.\n",
      "HTTP request sent, awaiting response... 200 OK\n",
      "Length: 68606236 (65M) [application/zip]\n",
      "Saving to: ‘./cats_and_dogs_filtered.zip’\n",
      "\n",
      "./cats_and_dogs_fil 100%[===================>]  65.43M  36.9MB/s    in 1.8s    \n",
      "\n",
      "2020-05-19 15:01:11 (36.9 MB/s) - ‘./cats_and_dogs_filtered.zip’ saved [68606236/68606236]\n",
      "\n"
     ]
    }
   ],
   "source": [
    "!wget  --no-check-certificate https://storage.googleapis.com/mledu-datasets/cats_and_dogs_filtered.zip -O ./cats_and_dogs_filtered.zip"
   ]
  },
  {
   "cell_type": "code",
   "execution_count": 5,
   "metadata": {
    "colab": {},
    "colab_type": "code",
    "id": "hbpy4Pbi9FOF"
   },
   "outputs": [],
   "source": [
    "dataset_path = \"./cats_and_dogs_filtered.zip\"\n",
    "zip_object = zipfile.ZipFile(file=dataset_path,mode='r')\n",
    "zip_object.extractall('./')\n",
    "zip_object.close()"
   ]
  },
  {
   "cell_type": "code",
   "execution_count": 3,
   "metadata": {
    "colab": {},
    "colab_type": "code",
    "id": "s6Inpu459NDb"
   },
   "outputs": [],
   "source": [
    "dataset_path_new = \"./cats_and_dogs_filtered/\"\n",
    "train_dir = os.path.join(dataset_path_new,\"train/dogs/\")\n",
    "validation_dir = os.path.join(dataset_path_new,\"validation\")"
   ]
  },
  {
   "cell_type": "code",
   "execution_count": 8,
   "metadata": {
    "colab": {},
    "colab_type": "code",
    "id": "nVzLyWoG9Ucs"
   },
   "outputs": [],
   "source": [
    "height = 128\n",
    "width = 128"
   ]
  },
  {
   "cell_type": "code",
   "execution_count": 9,
   "metadata": {
    "colab": {},
    "colab_type": "code",
    "id": "ZlUszwIC9XCW"
   },
   "outputs": [],
   "source": [
    "def imag(path, height, width):\n",
    "    \n",
    "    #lista para cargar imágenes\n",
    "    images=[]\n",
    "    \n",
    "    for image in os.listdir(path):#[:500]:\n",
    "        \n",
    "        #cargar la imágen\n",
    "        image = io.imread(path + image)\n",
    "        \n",
    "        if len(image.shape)<3:\n",
    "          print(\"las imagenes no tienen el mismo shape\")\n",
    "          sys.exit()\n",
    "        \n",
    "        #convertir en un array\n",
    "        image_from_array = Image.fromarray(image)\n",
    "        \n",
    "        #redimensionando la imágen \n",
    "        size_image = image_from_array.resize((height,width))\n",
    "        \n",
    "        #Adicionar la imágen a la lista de imágenes\n",
    "        images.append(np.array(size_image))\n",
    "\n",
    "    return images"
   ]
  },
  {
   "cell_type": "code",
   "execution_count": 10,
   "metadata": {
    "colab": {},
    "colab_type": "code",
    "id": "TEP--WtY0qu5"
   },
   "outputs": [],
   "source": [
    "images= imag(train_dir, height, width)"
   ]
  },
  {
   "cell_type": "code",
   "execution_count": 11,
   "metadata": {
    "colab": {},
    "colab_type": "code",
    "id": "UE9PhD6Z7o1Q"
   },
   "outputs": [],
   "source": [
    "images_train = images[:800]\n",
    "images_test = images[800:]"
   ]
  },
  {
   "cell_type": "code",
   "execution_count": 12,
   "metadata": {
    "colab": {},
    "colab_type": "code",
    "id": "C3hyRprB7FJw"
   },
   "outputs": [],
   "source": [
    "def imag_lr_hr(images_in,downscale=None,hr=False):\n",
    "\n",
    "  if hr:\n",
    "    images = np.array(images_in)\n",
    "    images= (images.astype('float32'))/np.max(images)\n",
    "\n",
    "  else:\n",
    "    images= []\n",
    "    for idx in range(len(images_in)):\n",
    "      images.append(imresize(images_in[idx], [images_in[idx].shape[0]//downscale,images_in[idx].shape[1]//downscale],interp = 'bicubic', mode=None ))\n",
    "    images = np.array(images)\n",
    "    images = (images.astype('float32'))/np.max(images)\n",
    "           \n",
    "  return images"
   ]
  },
  {
   "cell_type": "code",
   "execution_count": 13,
   "metadata": {
    "colab": {
     "base_uri": "https://localhost:8080/",
     "height": 85
    },
    "colab_type": "code",
    "executionInfo": {
     "elapsed": 3800,
     "status": "ok",
     "timestamp": 1589925231621,
     "user": {
      "displayName": "Christian Arcos",
      "photoUrl": "https://lh3.googleusercontent.com/a-/AOh14GgK0YCGQ3CbmQT1xhBm81fIKke4sHZ7YYud-Gxw-g=s64",
      "userId": "15715912930236321205"
     },
     "user_tz": 300
    },
    "id": "XJpFIEfg1_As",
    "outputId": "2c14e2f4-2089-4a82-a392-bebdc0295f2a"
   },
   "outputs": [
    {
     "name": "stderr",
     "output_type": "stream",
     "text": [
      "/home/cdayan/anaconda3/lib/python3.7/site-packages/ipykernel_launcher.py:10: DeprecationWarning: `imresize` is deprecated!\n",
      "`imresize` is deprecated in SciPy 1.0.0, and will be removed in 1.2.0.\n",
      "Use ``skimage.transform.resize`` instead.\n",
      "  # Remove the CWD from sys.path while we load stuff.\n"
     ]
    }
   ],
   "source": [
    "X_train_hr = imag_lr_hr(images_train, hr=True)\n",
    "X_train_lr = imag_lr_hr(images_train,downscale=4)\n",
    "X_test_hr = imag_lr_hr(images_test, hr=True)\n",
    "X_test_lr = imag_lr_hr(images_test, downscale=4)"
   ]
  },
  {
   "cell_type": "code",
   "execution_count": 14,
   "metadata": {
    "colab": {
     "base_uri": "https://localhost:8080/",
     "height": 85
    },
    "colab_type": "code",
    "executionInfo": {
     "elapsed": 1174,
     "status": "ok",
     "timestamp": 1589925233964,
     "user": {
      "displayName": "Christian Arcos",
      "photoUrl": "https://lh3.googleusercontent.com/a-/AOh14GgK0YCGQ3CbmQT1xhBm81fIKke4sHZ7YYud-Gxw-g=s64",
      "userId": "15715912930236321205"
     },
     "user_tz": 300
    },
    "id": "EB7Ypr2SGQ-W",
    "outputId": "de05bad3-ab65-4bfd-82b4-33bce71dfd36"
   },
   "outputs": [
    {
     "name": "stdout",
     "output_type": "stream",
     "text": [
      "train_hr sahpe  (800, 128, 128, 3)\n",
      "train_lr sahpe  (800, 32, 32, 3)\n",
      "test_hr sahpe  (200, 128, 128, 3)\n",
      "test_lr  sahpe  (200, 32, 32, 3)\n"
     ]
    }
   ],
   "source": [
    "print('train_hr sahpe ', X_train_hr.shape)\n",
    "print('train_lr sahpe ', X_train_lr.shape)\n",
    "print('test_hr sahpe ', X_test_hr.shape)\n",
    "print('test_lr  sahpe ', X_test_lr.shape)"
   ]
  },
  {
   "cell_type": "code",
   "execution_count": 15,
   "metadata": {
    "colab": {
     "base_uri": "https://localhost:8080/",
     "height": 269
    },
    "colab_type": "code",
    "executionInfo": {
     "elapsed": 1604,
     "status": "ok",
     "timestamp": 1589925236603,
     "user": {
      "displayName": "Christian Arcos",
      "photoUrl": "https://lh3.googleusercontent.com/a-/AOh14GgK0YCGQ3CbmQT1xhBm81fIKke4sHZ7YYud-Gxw-g=s64",
      "userId": "15715912930236321205"
     },
     "user_tz": 300
    },
    "id": "yv0yfIqw685z",
    "outputId": "2a032998-9aab-4aa3-a57b-019fae1453dc"
   },
   "outputs": [
    {
     "data": {
      "image/png": "[encoded data removed]",
      "text/plain": [
       "<Figure size 432x288 with 1 Axes>"
      ]
     },
     "metadata": {
      "needs_background": "light"
     },
     "output_type": "display_data"
    }
   ],
   "source": [
    "plt.imshow(X_train_hr[5])\n",
    "plt.show()"
   ]
  },
  {
   "cell_type": "code",
   "execution_count": 16,
   "metadata": {
    "colab": {
     "base_uri": "https://localhost:8080/",
     "height": 268
    },
    "colab_type": "code",
    "executionInfo": {
     "elapsed": 1556,
     "status": "ok",
     "timestamp": 1589925239202,
     "user": {
      "displayName": "Christian Arcos",
      "photoUrl": "https://lh3.googleusercontent.com/a-/AOh14GgK0YCGQ3CbmQT1xhBm81fIKke4sHZ7YYud-Gxw-g=s64",
      "userId": "15715912930236321205"
     },
     "user_tz": 300
    },
    "id": "JWQimnV16B77",
    "outputId": "4bc943ea-4d4c-4689-ac4c-9198acaf43c3"
   },
   "outputs": [
    {
     "data": {
      "image/png": "[encoded data removed]",
      "text/plain": [
       "<Figure size 432x288 with 1 Axes>"
      ]
     },
     "metadata": {
      "needs_background": "light"
     },
     "output_type": "display_data"
    }
   ],
   "source": [
    "plt.imshow(X_train_lr[5])\n",
    "plt.show()"
   ]
  },
  {
   "cell_type": "code",
   "execution_count": 17,
   "metadata": {
    "colab": {},
    "colab_type": "code",
    "id": "4N6xRlyfMVFI"
   },
   "outputs": [],
   "source": [
    "def res_block(tensor, filters, kernel_size, stride=1):\n",
    "  model = tensor\n",
    "  x = Conv2D(filters=filters, kernel_size=kernel_size, strides=stride, padding='same')(tensor)\n",
    "  x = BatchNormalization(momentum=0.5)(x)\n",
    "  x = PReLU(alpha_initializer='zeros', alpha_regularizer=None, alpha_constraint=None, shared_axes=[1,2])(x)\n",
    "  x = Conv2D(filters=filters, kernel_size=kernel_size, strides=stride, padding='same')(x)\n",
    "  x = BatchNormalization(momentum=0.5)(x)\n",
    "\n",
    "  x = add([model,x])\n",
    "  return x"
   ]
  },
  {
   "cell_type": "code",
   "execution_count": 18,
   "metadata": {
    "colab": {},
    "colab_type": "code",
    "id": "XkmoITafsbUv"
   },
   "outputs": [],
   "source": [
    "def up_samplig_block(tensor,kernel_size, filters, strides):\n",
    "  x = Conv2D(filters=filters, kernel_size=kernel_size, strides=strides, padding='same')(tensor)\n",
    "  x = UpSampling2D(size=2)(x)\n",
    "  x = LeakyReLU(alpha=0.2)(x)\n",
    "  return x"
   ]
  },
  {
   "cell_type": "code",
   "execution_count": 19,
   "metadata": {
    "colab": {},
    "colab_type": "code",
    "id": "l1jHzKIZwCjI"
   },
   "outputs": [],
   "source": [
    "def discriminator_block(tensor,filters, kernel_size, strides):\n",
    "  x = Conv2D(filters=filters, kernel_size=kernel_size, strides=strides, padding='same')(tensor)\n",
    "  x = BatchNormalization(momentum=0.5)(x)\n",
    "  x = LeakyReLU(alpha=0.2)(x)\n",
    "  return x\n"
   ]
  },
  {
   "cell_type": "code",
   "execution_count": 20,
   "metadata": {
    "colab": {},
    "colab_type": "code",
    "id": "RT93AwFuxBt9"
   },
   "outputs": [],
   "source": [
    "class Generator(object):\n",
    "\n",
    "  def __init__(self, noise_shape):\n",
    "    self.noise_shape = noise_shape\n",
    "\n",
    "  def generator(self):\n",
    "\n",
    "    g_input = Input(shape=self.noise_shape)\n",
    "    x = Conv2D(filters=64, kernel_size=9, strides=1, padding='same')(g_input)\n",
    "    x = PReLU(alpha_initializer='zeros', alpha_regularizer=None, alpha_constraint=None, shared_axes=[1,2])(x)\n",
    "\n",
    "    g_model = x\n",
    "    \n",
    "    # 16 bloques residual\n",
    "\n",
    "    for index in range(8):\n",
    "      print(index)\n",
    "      x = res_block(x,filters=64, kernel_size = 3, stride=1)\n",
    "\n",
    "    x = Conv2D(filters=64, kernel_size=3, strides=1, padding='same')(x)\n",
    "    x = BatchNormalization(momentum=0.5)(x)\n",
    "    \n",
    "    x = add([g_model,x])\n",
    "\n",
    "    # 2 upsamplin\n",
    "\n",
    "    for index in range(2):\n",
    "      x = up_samplig_block(x, kernel_size=3, filters=64, strides=1)\n",
    "\n",
    "\n",
    "    x = Conv2D(filters=3, kernel_size=9, strides=1, padding='same')(x)\n",
    "    x = Activation('tanh')(x)\n",
    "\n",
    "    generator_model = Model(g_input, x)\n",
    "\n",
    "    return generator_model\n",
    "    "
   ]
  },
  {
   "cell_type": "code",
   "execution_count": 21,
   "metadata": {
    "colab": {},
    "colab_type": "code",
    "id": "BAMFckzM77uN"
   },
   "outputs": [],
   "source": [
    "\n",
    "class Discriminator(object):\n",
    "\n",
    "  def __init__(self, image_sahpe):\n",
    "    self.image_shape = image_shape\n",
    "\n",
    "  def discriminator(self):\n",
    "\n",
    "    d_input = Input(shape=self.image_shape)\n",
    "\n",
    "    x = Conv2D(filters=64, kernel_size=3, strides=1, padding='same')(d_input)\n",
    "    x = LeakyReLU(alpha=0.2)(x)\n",
    "\n",
    "    x = discriminator_block(x, 64,3,2)\n",
    "    x = discriminator_block(x, 128,3,1)\n",
    "    x = discriminator_block(x, 128,3,2)\n",
    "    x = discriminator_block(x, 256,3,1)\n",
    "    x = discriminator_block(x, 256,3,2)\n",
    "    x = discriminator_block(x, 512,3,1)\n",
    "    x = discriminator_block(x, 512,3,2)\n",
    "\n",
    "    x = Flatten()(x)\n",
    "    x = Dense(512)(x)\n",
    "    x = LeakyReLU(alpha=0.2)(x)\n",
    "\n",
    "    x = Dense(1)(x)\n",
    "    x = Activation('sigmoid')(x)\n",
    "\n",
    "    discriminator_model = Model(d_input, x)\n",
    "\n",
    "    return discriminator_model\n"
   ]
  },
  {
   "cell_type": "code",
   "execution_count": 22,
   "metadata": {
    "colab": {
     "base_uri": "https://localhost:8080/",
     "height": 34
    },
    "colab_type": "code",
    "executionInfo": {
     "elapsed": 1253,
     "status": "ok",
     "timestamp": 1589925252710,
     "user": {
      "displayName": "Christian Arcos",
      "photoUrl": "https://lh3.googleusercontent.com/a-/AOh14GgK0YCGQ3CbmQT1xhBm81fIKke4sHZ7YYud-Gxw-g=s64",
      "userId": "15715912930236321205"
     },
     "user_tz": 300
    },
    "id": "EmAHM8P0B5Uc",
    "outputId": "cc050f6d-3475-457b-efa5-8bbfc4284a11"
   },
   "outputs": [
    {
     "name": "stderr",
     "output_type": "stream",
     "text": [
      "Using TensorFlow backend.\n"
     ]
    }
   ],
   "source": [
    "#optimizador usado VGG19\n",
    "from tensorflow.keras.applications.vgg19 import VGG19\n",
    "from tensorflow.keras.optimizers import Adam\n",
    "import keras.backend as K\n",
    "\n",
    "class VGG_LOSS(object):\n",
    "\n",
    "  def __init__(self, image_shape):\n",
    "    self.image_shape = image_shape\n",
    "\n",
    "  # funciones de perdida\n",
    "  def vgg_loss(self, y_true, y_pred):\n",
    "\n",
    "    vgg19 = VGG19(include_top=False, weights='imagenet', input_shape=self.image_shape)\n",
    "    vgg19.trainable = False\n",
    "    for l in vgg19.layers:\n",
    "      l.trainable = False\n",
    "\n",
    "    x = Model(inputs=vgg19.input, outputs = vgg19.get_layer('block5_conv4').output)\n",
    "    x.trainable = False\n",
    "\n",
    "    return K.mean(K.square(x(y_true) - x(y_pred)))\n",
    "\n",
    "def get_optimizer():\n",
    "\n",
    "  adam = Adam(lr=1E-4, beta_1=0.9,beta_2=0.999, epsilon=1e-08)\n",
    "  return adam\n"
   ]
  },
  {
   "cell_type": "code",
   "execution_count": 23,
   "metadata": {
    "colab": {},
    "colab_type": "code",
    "id": "XR0DZ_X2RnNT"
   },
   "outputs": [],
   "source": [
    "#Entrenamiento\n",
    "\n",
    "from tqdm import tqdm\n",
    "import numpy as np\n",
    "import argparse\n",
    "image_shape = X_train_hr[1,:,:].shape\n",
    "downscale_factor=4\n",
    "\n",
    "def get_gan_network(discriminator, shape,generator, optimizer, vgg_loss):\n",
    "  discriminator.trainable = False\n",
    "  gan_input = Input(shape=shape)\n",
    "  x = generator(gan_input)\n",
    "  gan_output = discriminator(x)\n",
    "  gan = Model(inputs=gan_input, outputs=[x,gan_output])\n",
    "  gan.compile(loss=[vgg_loss, \"binary_crossentropy\"], loss_weights=[1.,1e-3], optimizer=optimizer)\n",
    "  return gan\n",
    "\n",
    "\n",
    "def train(epochs, batch_size, X_train):\n",
    "  loss = VGG_LOSS(image_shape)\n",
    "  batch_count = int(X_train_hr.shape[0]/batch_size)\n",
    "  shape = (image_shape[0]//downscale_factor,image_shape[1]//downscale_factor,image_shape[2])\n",
    "  generator = Generator(shape).generator()\n",
    "  discriminator = Discriminator(image_shape).discriminator()\n",
    "  optimizer = get_optimizer()\n",
    "  generator.compile(loss=loss.vgg_loss, optimizer=optimizer)\n",
    "  discriminator.compile(loss=\"binary_crossentropy\", optimizer=optimizer)\n",
    "  gan = get_gan_network(discriminator, shape, generator, optimizer, loss.vgg_loss)\n",
    "  loss_file = open('losses.txt','w+')\n",
    "  loss_file.close()\n",
    "\n",
    "  for e in range(1, epochs+1):\n",
    "    print ('-'*15, 'Epoch %d' % e, '-'*15)\n",
    "    for _ in tqdm(range(batch_count)):\n",
    "      rand_nums = np.random.randint(0,X_train_hr.shape[0], size=batch_size)\n",
    "      image_batch_hr = X_train_hr[rand_nums]\n",
    "      image_batch_lr = X_train_lr[rand_nums]\n",
    "      generate_images_sr = generator.predict(image_batch_lr)\n",
    "\n",
    "      real_data_Y = np.ones(batch_size) - np.random.random_sample(batch_size)*0.2\n",
    "      fake_data_Y = np.random.random_sample(batch_size)*0.2\n",
    "\n",
    "      discriminator.trainable = True\n",
    "\n",
    "      d_loss_real = discriminator.train_on_batch(image_batch_hr, real_data_Y)\n",
    "      d_loss_fake = discriminator.train_on_batch(generate_images_sr, fake_data_Y)\n",
    "      disciminator_loss = 0.5* np.add(d_loss_fake,d_loss_real)\n",
    "\n",
    "      rand_nums = np.random.randint(0,X_train_hr.shape[0], size=batch_size)\n",
    "      image_batch_hr = X_train_hr[rand_nums]\n",
    "      image_batch_lr = X_train_lr[rand_nums]\n",
    "\n",
    "      gan_Y = np.ones(batch_size) - np.random.random_sample(batch_size)*0.2\n",
    "      discriminator.trainable = False\n",
    "      gan_loss = gan.train_on_batch(image_batch_lr, [image_batch_hr,gan_Y])\n",
    "\n",
    "    print('discriminator_loss : %f' % discriminator_loss)"
   ]
  },
  {
   "cell_type": "code",
   "execution_count": 28,
   "metadata": {
    "colab": {
     "base_uri": "https://localhost:8080/",
     "height": 306
    },
    "colab_type": "code",
    "executionInfo": {
     "elapsed": 2987,
     "status": "ok",
     "timestamp": 1589925264283,
     "user": {
      "displayName": "Christian Arcos",
      "photoUrl": "https://lh3.googleusercontent.com/a-/AOh14GgK0YCGQ3CbmQT1xhBm81fIKke4sHZ7YYud-Gxw-g=s64",
      "userId": "15715912930236321205"
     },
     "user_tz": 300
    },
    "id": "RkZxi5-Z7icS",
    "outputId": "9435a67a-29b9-418b-ef06-c8e025a8068a"
   },
   "outputs": [
    {
     "name": "stdout",
     "output_type": "stream",
     "text": [
      "Tue May 19 16:10:30 2020       \r\n",
      "+-----------------------------------------------------------------------------+\r\n",
      "| NVIDIA-SMI 440.64.00    Driver Version: 440.64.00    CUDA Version: 10.2     |\r\n",
      "|-------------------------------+----------------------+----------------------+\r\n",
      "| GPU  Name        Persistence-M| Bus-Id        Disp.A | Volatile Uncorr. ECC |\r\n",
      "| Fan  Temp  Perf  Pwr:Usage/Cap|         Memory-Usage | GPU-Util  Compute M. |\r\n",
      "|===============================+======================+======================|\r\n",
      "|   0  TITAN X (Pascal)    On   | 00000000:05:00.0 Off |                  N/A |\r\n",
      "| 23%   39C    P8     8W / 250W |    477MiB / 12194MiB |      0%      Default |\r\n",
      "+-------------------------------+----------------------+----------------------+\r\n",
      "|   1  GeForce GTX 108...  On   | 00000000:09:00.0 Off |                  N/A |\r\n",
      "| 23%   34C    P8     9W / 250W |    364MiB / 11178MiB |      0%      Default |\r\n",
      "+-------------------------------+----------------------+----------------------+\r\n",
      "|   2  TITAN RTX           On   | 00000000:0B:00.0 Off |                  N/A |\r\n",
      "| 41%   36C    P8    13W / 280W |  23544MiB / 24220MiB |      0%      Default |\r\n",
      "+-------------------------------+----------------------+----------------------+\r\n",
      "                                                                               \r\n",
      "+-----------------------------------------------------------------------------+\r\n",
      "| Processes:                                                       GPU Memory |\r\n",
      "|  GPU       PID   Type   Process name                             Usage      |\r\n",
      "|=============================================================================|\r\n",
      "|    0      1510      G   /usr/lib/xorg/Xorg                            39MiB |\r\n",
      "|    0      1547      G   /usr/bin/gnome-shell                          72MiB |\r\n",
      "|    0     19133      C   /home/vlima/anaconda3/bin/python             137MiB |\r\n",
      "|    0     20464      C   /home/cdayan/anaconda3/bin/python            215MiB |\r\n",
      "|    1     19133      C   /home/vlima/anaconda3/bin/python             137MiB |\r\n",
      "|    1     20464      C   /home/cdayan/anaconda3/bin/python            215MiB |\r\n",
      "|    2     19133      C   /home/vlima/anaconda3/bin/python             163MiB |\r\n",
      "|    2     20464      C   /home/cdayan/anaconda3/bin/python          23369MiB |\r\n",
      "+-----------------------------------------------------------------------------+\r\n"
     ]
    }
   ],
   "source": [
    "!nvidia-smi"
   ]
  },
  {
   "cell_type": "code",
   "execution_count": 25,
   "metadata": {
    "colab": {
     "base_uri": "https://localhost:8080/",
     "height": 34
    },
    "colab_type": "code",
    "executionInfo": {
     "elapsed": 975,
     "status": "ok",
     "timestamp": 1589924393913,
     "user": {
      "displayName": "Christian Arcos",
      "photoUrl": "https://lh3.googleusercontent.com/a-/AOh14GgK0YCGQ3CbmQT1xhBm81fIKke4sHZ7YYud-Gxw-g=s64",
      "userId": "15715912930236321205"
     },
     "user_tz": 300
    },
    "id": "FKO8ZEkDzqsQ",
    "outputId": "2f5edd1b-e533-4967-c1ce-e0f91798ed0b"
   },
   "outputs": [
    {
     "data": {
      "text/plain": [
       "1.0"
      ]
     },
     "execution_count": 25,
     "metadata": {},
     "output_type": "execute_result"
    }
   ],
   "source": [
    "X_train_hr.shape[0]/800"
   ]
  },
  {
   "cell_type": "code",
   "execution_count": 27,
   "metadata": {
    "colab": {
     "base_uri": "https://localhost:8080/",
     "height": 170
    },
    "colab_type": "code",
    "id": "QLh4ETVbRxzs",
    "outputId": "4cae611d-aada-439d-c6e4-9945728127c9"
   },
   "outputs": [
    {
     "name": "stdout",
     "output_type": "stream",
     "text": [
      "0\n",
      "1\n",
      "2\n",
      "3\n",
      "4\n",
      "5\n",
      "6\n",
      "7\n"
     ]
    },
    {
     "name": "stderr",
     "output_type": "stream",
     "text": [
      "\r",
      "  0%|          | 0/1 [00:00<?, ?it/s]"
     ]
    },
    {
     "name": "stdout",
     "output_type": "stream",
     "text": [
      "--------------- Epoch 1 ---------------\n"
     ]
    },
    {
     "ename": "ValueError",
     "evalue": "in converted code:\n\n    /home/cdayan/anaconda3/lib/python3.7/site-packages/tensorflow_core/python/keras/engine/training_eager.py:305 train_on_batch  *\n        outs, total_loss, output_losses, masks = (\n    /home/cdayan/anaconda3/lib/python3.7/site-packages/tensorflow_core/python/keras/engine/training_eager.py:253 _process_single_batch\n        training=training))\n    /home/cdayan/anaconda3/lib/python3.7/site-packages/tensorflow_core/python/keras/engine/training_eager.py:167 _model_loss\n        per_sample_losses = loss_fn.call(targets[i], outs[i])\n    /home/cdayan/anaconda3/lib/python3.7/site-packages/tensorflow_core/python/keras/losses.py:221 call\n        return self.fn(y_true, y_pred, **self._fn_kwargs)\n    <ipython-input-22-87d9a729a880>:14 vgg_loss\n        vgg19 = VGG19(include_top=False, weights='imagenet', input_shape=self.image_shape)\n    /home/cdayan/anaconda3/lib/python3.7/site-packages/tensorflow_core/python/keras/applications/__init__.py:46 wrapper\n        return base_fun(*args, **kwargs)\n    /home/cdayan/anaconda3/lib/python3.7/site-packages/tensorflow_core/python/keras/applications/vgg19.py:32 VGG19\n        return vgg19.VGG19(*args, **kwargs)\n    /home/cdayan/anaconda3/lib/python3.7/site-packages/keras_applications/vgg19.py:112 VGG19\n        name='block1_conv1')(img_input)\n    /home/cdayan/anaconda3/lib/python3.7/site-packages/tensorflow_core/python/keras/engine/base_layer.py:748 __call__\n        self._maybe_build(inputs)\n    /home/cdayan/anaconda3/lib/python3.7/site-packages/tensorflow_core/python/keras/engine/base_layer.py:2116 _maybe_build\n        self.build(input_shapes)\n    /home/cdayan/anaconda3/lib/python3.7/site-packages/tensorflow_core/python/keras/layers/convolutional.py:158 build\n        dtype=self.dtype)\n    /home/cdayan/anaconda3/lib/python3.7/site-packages/tensorflow_core/python/keras/engine/base_layer.py:446 add_weight\n        caching_device=caching_device)\n    /home/cdayan/anaconda3/lib/python3.7/site-packages/tensorflow_core/python/training/tracking/base.py:744 _add_variable_with_custom_getter\n        **kwargs_for_getter)\n    /home/cdayan/anaconda3/lib/python3.7/site-packages/tensorflow_core/python/keras/engine/base_layer_utils.py:142 make_variable\n        shape=variable_shape if variable_shape else None)\n    /home/cdayan/anaconda3/lib/python3.7/site-packages/tensorflow_core/python/ops/variables.py:258 __call__\n        return cls._variable_v1_call(*args, **kwargs)\n    /home/cdayan/anaconda3/lib/python3.7/site-packages/tensorflow_core/python/ops/variables.py:219 _variable_v1_call\n        shape=shape)\n    /home/cdayan/anaconda3/lib/python3.7/site-packages/tensorflow_core/python/ops/variables.py:65 getter\n        return captured_getter(captured_previous, **kwargs)\n    /home/cdayan/anaconda3/lib/python3.7/site-packages/tensorflow_core/python/eager/def_function.py:502 invalid_creator_scope\n        \"tf.function-decorated function tried to create \"\n\n    ValueError: tf.function-decorated function tried to create variables on non-first call.\n",
     "output_type": "error",
     "traceback": [
      "\u001b[0;31m---------------------------------------------------------------------------\u001b[0m",
      "\u001b[0;31mValueError\u001b[0m                                Traceback (most recent call last)",
      "\u001b[0;32m<ipython-input-27-d783d2e3f06c>\u001b[0m in \u001b[0;36m<module>\u001b[0;34m\u001b[0m\n\u001b[0;32m----> 1\u001b[0;31m \u001b[0mtrain\u001b[0m\u001b[0;34m(\u001b[0m\u001b[0;36m100\u001b[0m\u001b[0;34m,\u001b[0m\u001b[0;36m800\u001b[0m\u001b[0;34m,\u001b[0m\u001b[0mX_train_hr\u001b[0m\u001b[0;34m)\u001b[0m\u001b[0;34m\u001b[0m\u001b[0;34m\u001b[0m\u001b[0m\n\u001b[0m",
      "\u001b[0;32m<ipython-input-23-881c70d1d0cd>\u001b[0m in \u001b[0;36mtrain\u001b[0;34m(epochs, batch_size, X_train)\u001b[0m\n\u001b[1;32m     53\u001b[0m       \u001b[0mgan_Y\u001b[0m \u001b[0;34m=\u001b[0m \u001b[0mnp\u001b[0m\u001b[0;34m.\u001b[0m\u001b[0mones\u001b[0m\u001b[0;34m(\u001b[0m\u001b[0mbatch_size\u001b[0m\u001b[0;34m)\u001b[0m \u001b[0;34m-\u001b[0m \u001b[0mnp\u001b[0m\u001b[0;34m.\u001b[0m\u001b[0mrandom\u001b[0m\u001b[0;34m.\u001b[0m\u001b[0mrandom_sample\u001b[0m\u001b[0;34m(\u001b[0m\u001b[0mbatch_size\u001b[0m\u001b[0;34m)\u001b[0m\u001b[0;34m*\u001b[0m\u001b[0;36m0.2\u001b[0m\u001b[0;34m\u001b[0m\u001b[0;34m\u001b[0m\u001b[0m\n\u001b[1;32m     54\u001b[0m       \u001b[0mdiscriminator\u001b[0m\u001b[0;34m.\u001b[0m\u001b[0mtrainable\u001b[0m \u001b[0;34m=\u001b[0m \u001b[0;32mFalse\u001b[0m\u001b[0;34m\u001b[0m\u001b[0;34m\u001b[0m\u001b[0m\n\u001b[0;32m---> 55\u001b[0;31m       \u001b[0mgan_loss\u001b[0m \u001b[0;34m=\u001b[0m \u001b[0mgan\u001b[0m\u001b[0;34m.\u001b[0m\u001b[0mtrain_on_batch\u001b[0m\u001b[0;34m(\u001b[0m\u001b[0mimage_batch_lr\u001b[0m\u001b[0;34m,\u001b[0m \u001b[0;34m[\u001b[0m\u001b[0mimage_batch_hr\u001b[0m\u001b[0;34m,\u001b[0m\u001b[0mgan_Y\u001b[0m\u001b[0;34m]\u001b[0m\u001b[0;34m)\u001b[0m\u001b[0;34m\u001b[0m\u001b[0;34m\u001b[0m\u001b[0m\n\u001b[0m\u001b[1;32m     56\u001b[0m \u001b[0;34m\u001b[0m\u001b[0m\n\u001b[1;32m     57\u001b[0m     \u001b[0mprint\u001b[0m\u001b[0;34m(\u001b[0m\u001b[0;34m'discriminator_loss : %f'\u001b[0m \u001b[0;34m%\u001b[0m \u001b[0mdiscriminator_loss\u001b[0m\u001b[0;34m)\u001b[0m\u001b[0;34m\u001b[0m\u001b[0;34m\u001b[0m\u001b[0m\n",
      "\u001b[0;32m~/anaconda3/lib/python3.7/site-packages/tensorflow_core/python/keras/engine/training.py\u001b[0m in \u001b[0;36mtrain_on_batch\u001b[0;34m(self, x, y, sample_weight, class_weight, reset_metrics)\u001b[0m\n\u001b[1;32m   1076\u001b[0m           \u001b[0mself\u001b[0m\u001b[0;34m,\u001b[0m \u001b[0mx\u001b[0m\u001b[0;34m,\u001b[0m \u001b[0my\u001b[0m\u001b[0;34m=\u001b[0m\u001b[0my\u001b[0m\u001b[0;34m,\u001b[0m \u001b[0msample_weight\u001b[0m\u001b[0;34m=\u001b[0m\u001b[0msample_weight\u001b[0m\u001b[0;34m,\u001b[0m\u001b[0;34m\u001b[0m\u001b[0;34m\u001b[0m\u001b[0m\n\u001b[1;32m   1077\u001b[0m           \u001b[0mclass_weight\u001b[0m\u001b[0;34m=\u001b[0m\u001b[0mclass_weight\u001b[0m\u001b[0;34m,\u001b[0m \u001b[0mreset_metrics\u001b[0m\u001b[0;34m=\u001b[0m\u001b[0mreset_metrics\u001b[0m\u001b[0;34m,\u001b[0m\u001b[0;34m\u001b[0m\u001b[0;34m\u001b[0m\u001b[0m\n\u001b[0;32m-> 1078\u001b[0;31m           standalone=True)\n\u001b[0m\u001b[1;32m   1079\u001b[0m       outputs = (outputs['total_loss'] + outputs['output_losses'] +\n\u001b[1;32m   1080\u001b[0m                  outputs['metrics'])\n",
      "\u001b[0;32m~/anaconda3/lib/python3.7/site-packages/tensorflow_core/python/keras/engine/training_v2_utils.py\u001b[0m in \u001b[0;36mtrain_on_batch\u001b[0;34m(model, x, y, sample_weight, class_weight, reset_metrics, standalone)\u001b[0m\n\u001b[1;32m    431\u001b[0m       \u001b[0my\u001b[0m\u001b[0;34m,\u001b[0m\u001b[0;34m\u001b[0m\u001b[0;34m\u001b[0m\u001b[0m\n\u001b[1;32m    432\u001b[0m       \u001b[0msample_weights\u001b[0m\u001b[0;34m=\u001b[0m\u001b[0msample_weights\u001b[0m\u001b[0;34m,\u001b[0m\u001b[0;34m\u001b[0m\u001b[0;34m\u001b[0m\u001b[0m\n\u001b[0;32m--> 433\u001b[0;31m       output_loss_metrics=model._output_loss_metrics)\n\u001b[0m\u001b[1;32m    434\u001b[0m \u001b[0;34m\u001b[0m\u001b[0m\n\u001b[1;32m    435\u001b[0m   \u001b[0;32mif\u001b[0m \u001b[0mreset_metrics\u001b[0m\u001b[0;34m:\u001b[0m\u001b[0;34m\u001b[0m\u001b[0;34m\u001b[0m\u001b[0m\n",
      "\u001b[0;32m~/anaconda3/lib/python3.7/site-packages/tensorflow_core/python/eager/def_function.py\u001b[0m in \u001b[0;36m__call__\u001b[0;34m(self, *args, **kwds)\u001b[0m\n\u001b[1;32m    566\u001b[0m         \u001b[0mxla_context\u001b[0m\u001b[0;34m.\u001b[0m\u001b[0mExit\u001b[0m\u001b[0;34m(\u001b[0m\u001b[0;34m)\u001b[0m\u001b[0;34m\u001b[0m\u001b[0;34m\u001b[0m\u001b[0m\n\u001b[1;32m    567\u001b[0m     \u001b[0;32melse\u001b[0m\u001b[0;34m:\u001b[0m\u001b[0;34m\u001b[0m\u001b[0;34m\u001b[0m\u001b[0m\n\u001b[0;32m--> 568\u001b[0;31m       \u001b[0mresult\u001b[0m \u001b[0;34m=\u001b[0m \u001b[0mself\u001b[0m\u001b[0;34m.\u001b[0m\u001b[0m_call\u001b[0m\u001b[0;34m(\u001b[0m\u001b[0;34m*\u001b[0m\u001b[0margs\u001b[0m\u001b[0;34m,\u001b[0m \u001b[0;34m**\u001b[0m\u001b[0mkwds\u001b[0m\u001b[0;34m)\u001b[0m\u001b[0;34m\u001b[0m\u001b[0;34m\u001b[0m\u001b[0m\n\u001b[0m\u001b[1;32m    569\u001b[0m \u001b[0;34m\u001b[0m\u001b[0m\n\u001b[1;32m    570\u001b[0m     \u001b[0;32mif\u001b[0m \u001b[0mtracing_count\u001b[0m \u001b[0;34m==\u001b[0m \u001b[0mself\u001b[0m\u001b[0;34m.\u001b[0m\u001b[0m_get_tracing_count\u001b[0m\u001b[0;34m(\u001b[0m\u001b[0;34m)\u001b[0m\u001b[0;34m:\u001b[0m\u001b[0;34m\u001b[0m\u001b[0;34m\u001b[0m\u001b[0m\n",
      "\u001b[0;32m~/anaconda3/lib/python3.7/site-packages/tensorflow_core/python/eager/def_function.py\u001b[0m in \u001b[0;36m_call\u001b[0;34m(self, *args, **kwds)\u001b[0m\n\u001b[1;32m    630\u001b[0m         \u001b[0;31m# Lifting succeeded, so variables are initialized and we can run the\u001b[0m\u001b[0;34m\u001b[0m\u001b[0;34m\u001b[0m\u001b[0;34m\u001b[0m\u001b[0m\n\u001b[1;32m    631\u001b[0m         \u001b[0;31m# stateless function.\u001b[0m\u001b[0;34m\u001b[0m\u001b[0;34m\u001b[0m\u001b[0;34m\u001b[0m\u001b[0m\n\u001b[0;32m--> 632\u001b[0;31m         \u001b[0;32mreturn\u001b[0m \u001b[0mself\u001b[0m\u001b[0;34m.\u001b[0m\u001b[0m_stateless_fn\u001b[0m\u001b[0;34m(\u001b[0m\u001b[0;34m*\u001b[0m\u001b[0margs\u001b[0m\u001b[0;34m,\u001b[0m \u001b[0;34m**\u001b[0m\u001b[0mkwds\u001b[0m\u001b[0;34m)\u001b[0m\u001b[0;34m\u001b[0m\u001b[0;34m\u001b[0m\u001b[0m\n\u001b[0m\u001b[1;32m    633\u001b[0m     \u001b[0;32melse\u001b[0m\u001b[0;34m:\u001b[0m\u001b[0;34m\u001b[0m\u001b[0;34m\u001b[0m\u001b[0m\n\u001b[1;32m    634\u001b[0m       \u001b[0mcanon_args\u001b[0m\u001b[0;34m,\u001b[0m \u001b[0mcanon_kwds\u001b[0m \u001b[0;34m=\u001b[0m\u001b[0;31m \u001b[0m\u001b[0;31m\\\u001b[0m\u001b[0;34m\u001b[0m\u001b[0;34m\u001b[0m\u001b[0m\n",
      "\u001b[0;32m~/anaconda3/lib/python3.7/site-packages/tensorflow_core/python/eager/function.py\u001b[0m in \u001b[0;36m__call__\u001b[0;34m(self, *args, **kwargs)\u001b[0m\n\u001b[1;32m   2360\u001b[0m     \u001b[0;34m\"\"\"Calls a graph function specialized to the inputs.\"\"\"\u001b[0m\u001b[0;34m\u001b[0m\u001b[0;34m\u001b[0m\u001b[0m\n\u001b[1;32m   2361\u001b[0m     \u001b[0;32mwith\u001b[0m \u001b[0mself\u001b[0m\u001b[0;34m.\u001b[0m\u001b[0m_lock\u001b[0m\u001b[0;34m:\u001b[0m\u001b[0;34m\u001b[0m\u001b[0;34m\u001b[0m\u001b[0m\n\u001b[0;32m-> 2362\u001b[0;31m       \u001b[0mgraph_function\u001b[0m\u001b[0;34m,\u001b[0m \u001b[0margs\u001b[0m\u001b[0;34m,\u001b[0m \u001b[0mkwargs\u001b[0m \u001b[0;34m=\u001b[0m \u001b[0mself\u001b[0m\u001b[0;34m.\u001b[0m\u001b[0m_maybe_define_function\u001b[0m\u001b[0;34m(\u001b[0m\u001b[0margs\u001b[0m\u001b[0;34m,\u001b[0m \u001b[0mkwargs\u001b[0m\u001b[0;34m)\u001b[0m\u001b[0;34m\u001b[0m\u001b[0;34m\u001b[0m\u001b[0m\n\u001b[0m\u001b[1;32m   2363\u001b[0m     \u001b[0;32mreturn\u001b[0m \u001b[0mgraph_function\u001b[0m\u001b[0;34m.\u001b[0m\u001b[0m_filtered_call\u001b[0m\u001b[0;34m(\u001b[0m\u001b[0margs\u001b[0m\u001b[0;34m,\u001b[0m \u001b[0mkwargs\u001b[0m\u001b[0;34m)\u001b[0m  \u001b[0;31m# pylint: disable=protected-access\u001b[0m\u001b[0;34m\u001b[0m\u001b[0;34m\u001b[0m\u001b[0m\n\u001b[1;32m   2364\u001b[0m \u001b[0;34m\u001b[0m\u001b[0m\n",
      "\u001b[0;32m~/anaconda3/lib/python3.7/site-packages/tensorflow_core/python/eager/function.py\u001b[0m in \u001b[0;36m_maybe_define_function\u001b[0;34m(self, args, kwargs)\u001b[0m\n\u001b[1;32m   2701\u001b[0m \u001b[0;34m\u001b[0m\u001b[0m\n\u001b[1;32m   2702\u001b[0m       \u001b[0mself\u001b[0m\u001b[0;34m.\u001b[0m\u001b[0m_function_cache\u001b[0m\u001b[0;34m.\u001b[0m\u001b[0mmissed\u001b[0m\u001b[0;34m.\u001b[0m\u001b[0madd\u001b[0m\u001b[0;34m(\u001b[0m\u001b[0mcall_context_key\u001b[0m\u001b[0;34m)\u001b[0m\u001b[0;34m\u001b[0m\u001b[0;34m\u001b[0m\u001b[0m\n\u001b[0;32m-> 2703\u001b[0;31m       \u001b[0mgraph_function\u001b[0m \u001b[0;34m=\u001b[0m \u001b[0mself\u001b[0m\u001b[0;34m.\u001b[0m\u001b[0m_create_graph_function\u001b[0m\u001b[0;34m(\u001b[0m\u001b[0margs\u001b[0m\u001b[0;34m,\u001b[0m \u001b[0mkwargs\u001b[0m\u001b[0;34m)\u001b[0m\u001b[0;34m\u001b[0m\u001b[0;34m\u001b[0m\u001b[0m\n\u001b[0m\u001b[1;32m   2704\u001b[0m       \u001b[0mself\u001b[0m\u001b[0;34m.\u001b[0m\u001b[0m_function_cache\u001b[0m\u001b[0;34m.\u001b[0m\u001b[0mprimary\u001b[0m\u001b[0;34m[\u001b[0m\u001b[0mcache_key\u001b[0m\u001b[0;34m]\u001b[0m \u001b[0;34m=\u001b[0m \u001b[0mgraph_function\u001b[0m\u001b[0;34m\u001b[0m\u001b[0;34m\u001b[0m\u001b[0m\n\u001b[1;32m   2705\u001b[0m       \u001b[0;32mreturn\u001b[0m \u001b[0mgraph_function\u001b[0m\u001b[0;34m,\u001b[0m \u001b[0margs\u001b[0m\u001b[0;34m,\u001b[0m \u001b[0mkwargs\u001b[0m\u001b[0;34m\u001b[0m\u001b[0;34m\u001b[0m\u001b[0m\n",
      "\u001b[0;32m~/anaconda3/lib/python3.7/site-packages/tensorflow_core/python/eager/function.py\u001b[0m in \u001b[0;36m_create_graph_function\u001b[0;34m(self, args, kwargs, override_flat_arg_shapes)\u001b[0m\n\u001b[1;32m   2591\u001b[0m             \u001b[0marg_names\u001b[0m\u001b[0;34m=\u001b[0m\u001b[0marg_names\u001b[0m\u001b[0;34m,\u001b[0m\u001b[0;34m\u001b[0m\u001b[0;34m\u001b[0m\u001b[0m\n\u001b[1;32m   2592\u001b[0m             \u001b[0moverride_flat_arg_shapes\u001b[0m\u001b[0;34m=\u001b[0m\u001b[0moverride_flat_arg_shapes\u001b[0m\u001b[0;34m,\u001b[0m\u001b[0;34m\u001b[0m\u001b[0;34m\u001b[0m\u001b[0m\n\u001b[0;32m-> 2593\u001b[0;31m             capture_by_value=self._capture_by_value),\n\u001b[0m\u001b[1;32m   2594\u001b[0m         \u001b[0mself\u001b[0m\u001b[0;34m.\u001b[0m\u001b[0m_function_attributes\u001b[0m\u001b[0;34m,\u001b[0m\u001b[0;34m\u001b[0m\u001b[0;34m\u001b[0m\u001b[0m\n\u001b[1;32m   2595\u001b[0m         \u001b[0;31m# Tell the ConcreteFunction to clean up its graph once it goes out of\u001b[0m\u001b[0;34m\u001b[0m\u001b[0;34m\u001b[0m\u001b[0;34m\u001b[0m\u001b[0m\n",
      "\u001b[0;32m~/anaconda3/lib/python3.7/site-packages/tensorflow_core/python/framework/func_graph.py\u001b[0m in \u001b[0;36mfunc_graph_from_py_func\u001b[0;34m(name, python_func, args, kwargs, signature, func_graph, autograph, autograph_options, add_control_dependencies, arg_names, op_return_value, collections, capture_by_value, override_flat_arg_shapes)\u001b[0m\n\u001b[1;32m    976\u001b[0m                                           converted_func)\n\u001b[1;32m    977\u001b[0m \u001b[0;34m\u001b[0m\u001b[0m\n\u001b[0;32m--> 978\u001b[0;31m       \u001b[0mfunc_outputs\u001b[0m \u001b[0;34m=\u001b[0m \u001b[0mpython_func\u001b[0m\u001b[0;34m(\u001b[0m\u001b[0;34m*\u001b[0m\u001b[0mfunc_args\u001b[0m\u001b[0;34m,\u001b[0m \u001b[0;34m**\u001b[0m\u001b[0mfunc_kwargs\u001b[0m\u001b[0;34m)\u001b[0m\u001b[0;34m\u001b[0m\u001b[0;34m\u001b[0m\u001b[0m\n\u001b[0m\u001b[1;32m    979\u001b[0m \u001b[0;34m\u001b[0m\u001b[0m\n\u001b[1;32m    980\u001b[0m       \u001b[0;31m# invariant: `func_outputs` contains only Tensors, CompositeTensors,\u001b[0m\u001b[0;34m\u001b[0m\u001b[0;34m\u001b[0m\u001b[0;34m\u001b[0m\u001b[0m\n",
      "\u001b[0;32m~/anaconda3/lib/python3.7/site-packages/tensorflow_core/python/eager/def_function.py\u001b[0m in \u001b[0;36mwrapped_fn\u001b[0;34m(*args, **kwds)\u001b[0m\n\u001b[1;32m    437\u001b[0m         \u001b[0;31m# __wrapped__ allows AutoGraph to swap in a converted function. We give\u001b[0m\u001b[0;34m\u001b[0m\u001b[0;34m\u001b[0m\u001b[0;34m\u001b[0m\u001b[0m\n\u001b[1;32m    438\u001b[0m         \u001b[0;31m# the function a weak reference to itself to avoid a reference cycle.\u001b[0m\u001b[0;34m\u001b[0m\u001b[0;34m\u001b[0m\u001b[0;34m\u001b[0m\u001b[0m\n\u001b[0;32m--> 439\u001b[0;31m         \u001b[0;32mreturn\u001b[0m \u001b[0mweak_wrapped_fn\u001b[0m\u001b[0;34m(\u001b[0m\u001b[0;34m)\u001b[0m\u001b[0;34m.\u001b[0m\u001b[0m__wrapped__\u001b[0m\u001b[0;34m(\u001b[0m\u001b[0;34m*\u001b[0m\u001b[0margs\u001b[0m\u001b[0;34m,\u001b[0m \u001b[0;34m**\u001b[0m\u001b[0mkwds\u001b[0m\u001b[0;34m)\u001b[0m\u001b[0;34m\u001b[0m\u001b[0;34m\u001b[0m\u001b[0m\n\u001b[0m\u001b[1;32m    440\u001b[0m     \u001b[0mweak_wrapped_fn\u001b[0m \u001b[0;34m=\u001b[0m \u001b[0mweakref\u001b[0m\u001b[0;34m.\u001b[0m\u001b[0mref\u001b[0m\u001b[0;34m(\u001b[0m\u001b[0mwrapped_fn\u001b[0m\u001b[0;34m)\u001b[0m\u001b[0;34m\u001b[0m\u001b[0;34m\u001b[0m\u001b[0m\n\u001b[1;32m    441\u001b[0m \u001b[0;34m\u001b[0m\u001b[0m\n",
      "\u001b[0;32m~/anaconda3/lib/python3.7/site-packages/tensorflow_core/python/framework/func_graph.py\u001b[0m in \u001b[0;36mwrapper\u001b[0;34m(*args, **kwargs)\u001b[0m\n\u001b[1;32m    966\u001b[0m           \u001b[0;32mexcept\u001b[0m \u001b[0mException\u001b[0m \u001b[0;32mas\u001b[0m \u001b[0me\u001b[0m\u001b[0;34m:\u001b[0m  \u001b[0;31m# pylint:disable=broad-except\u001b[0m\u001b[0;34m\u001b[0m\u001b[0;34m\u001b[0m\u001b[0m\n\u001b[1;32m    967\u001b[0m             \u001b[0;32mif\u001b[0m \u001b[0mhasattr\u001b[0m\u001b[0;34m(\u001b[0m\u001b[0me\u001b[0m\u001b[0;34m,\u001b[0m \u001b[0;34m\"ag_error_metadata\"\u001b[0m\u001b[0;34m)\u001b[0m\u001b[0;34m:\u001b[0m\u001b[0;34m\u001b[0m\u001b[0;34m\u001b[0m\u001b[0m\n\u001b[0;32m--> 968\u001b[0;31m               \u001b[0;32mraise\u001b[0m \u001b[0me\u001b[0m\u001b[0;34m.\u001b[0m\u001b[0mag_error_metadata\u001b[0m\u001b[0;34m.\u001b[0m\u001b[0mto_exception\u001b[0m\u001b[0;34m(\u001b[0m\u001b[0me\u001b[0m\u001b[0;34m)\u001b[0m\u001b[0;34m\u001b[0m\u001b[0;34m\u001b[0m\u001b[0m\n\u001b[0m\u001b[1;32m    969\u001b[0m             \u001b[0;32melse\u001b[0m\u001b[0;34m:\u001b[0m\u001b[0;34m\u001b[0m\u001b[0;34m\u001b[0m\u001b[0m\n\u001b[1;32m    970\u001b[0m               \u001b[0;32mraise\u001b[0m\u001b[0;34m\u001b[0m\u001b[0;34m\u001b[0m\u001b[0m\n",
      "\u001b[0;31mValueError\u001b[0m: in converted code:\n\n    /home/cdayan/anaconda3/lib/python3.7/site-packages/tensorflow_core/python/keras/engine/training_eager.py:305 train_on_batch  *\n        outs, total_loss, output_losses, masks = (\n    /home/cdayan/anaconda3/lib/python3.7/site-packages/tensorflow_core/python/keras/engine/training_eager.py:253 _process_single_batch\n        training=training))\n    /home/cdayan/anaconda3/lib/python3.7/site-packages/tensorflow_core/python/keras/engine/training_eager.py:167 _model_loss\n        per_sample_losses = loss_fn.call(targets[i], outs[i])\n    /home/cdayan/anaconda3/lib/python3.7/site-packages/tensorflow_core/python/keras/losses.py:221 call\n        return self.fn(y_true, y_pred, **self._fn_kwargs)\n    <ipython-input-22-87d9a729a880>:14 vgg_loss\n        vgg19 = VGG19(include_top=False, weights='imagenet', input_shape=self.image_shape)\n    /home/cdayan/anaconda3/lib/python3.7/site-packages/tensorflow_core/python/keras/applications/__init__.py:46 wrapper\n        return base_fun(*args, **kwargs)\n    /home/cdayan/anaconda3/lib/python3.7/site-packages/tensorflow_core/python/keras/applications/vgg19.py:32 VGG19\n        return vgg19.VGG19(*args, **kwargs)\n    /home/cdayan/anaconda3/lib/python3.7/site-packages/keras_applications/vgg19.py:112 VGG19\n        name='block1_conv1')(img_input)\n    /home/cdayan/anaconda3/lib/python3.7/site-packages/tensorflow_core/python/keras/engine/base_layer.py:748 __call__\n        self._maybe_build(inputs)\n    /home/cdayan/anaconda3/lib/python3.7/site-packages/tensorflow_core/python/keras/engine/base_layer.py:2116 _maybe_build\n        self.build(input_shapes)\n    /home/cdayan/anaconda3/lib/python3.7/site-packages/tensorflow_core/python/keras/layers/convolutional.py:158 build\n        dtype=self.dtype)\n    /home/cdayan/anaconda3/lib/python3.7/site-packages/tensorflow_core/python/keras/engine/base_layer.py:446 add_weight\n        caching_device=caching_device)\n    /home/cdayan/anaconda3/lib/python3.7/site-packages/tensorflow_core/python/training/tracking/base.py:744 _add_variable_with_custom_getter\n        **kwargs_for_getter)\n    /home/cdayan/anaconda3/lib/python3.7/site-packages/tensorflow_core/python/keras/engine/base_layer_utils.py:142 make_variable\n        shape=variable_shape if variable_shape else None)\n    /home/cdayan/anaconda3/lib/python3.7/site-packages/tensorflow_core/python/ops/variables.py:258 __call__\n        return cls._variable_v1_call(*args, **kwargs)\n    /home/cdayan/anaconda3/lib/python3.7/site-packages/tensorflow_core/python/ops/variables.py:219 _variable_v1_call\n        shape=shape)\n    /home/cdayan/anaconda3/lib/python3.7/site-packages/tensorflow_core/python/ops/variables.py:65 getter\n        return captured_getter(captured_previous, **kwargs)\n    /home/cdayan/anaconda3/lib/python3.7/site-packages/tensorflow_core/python/eager/def_function.py:502 invalid_creator_scope\n        \"tf.function-decorated function tried to create \"\n\n    ValueError: tf.function-decorated function tried to create variables on non-first call.\n"
     ]
    }
   ],
   "source": [
    "train(100,800,X_train_hr)"
   ]
  },
  {
   "cell_type": "code",
   "execution_count": 0,
   "metadata": {
    "colab": {},
    "colab_type": "code",
    "id": "U_Mgr_d9nHu5"
   },
   "outputs": [],
   "source": []
  }
 ],
 "metadata": {
  "accelerator": "GPU",
  "colab": {
   "authorship_tag": "ABX9TyMisvZpEBAEKTGcpT/V16sc",
   "collapsed_sections": [],
   "name": "GANs_Reconstruction.ipynb",
   "provenance": []
  },
  "kernelspec": {
   "display_name": "Python 3",
   "language": "python",
   "name": "python3"
  },
  "language_info": {
   "codemirror_mode": {
    "name": "ipython",
    "version": 3
   },
   "file_extension": ".py",
   "mimetype": "text/x-python",
   "name": "python",
   "nbconvert_exporter": "python",
   "pygments_lexer": "ipython3",
   "version": "3.7.6"
  }
 },
 "nbformat": 4,
 "nbformat_minor": 1
}
